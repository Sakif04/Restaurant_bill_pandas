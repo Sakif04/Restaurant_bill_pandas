{
 "cells": [
  {
   "cell_type": "code",
   "execution_count": 45,
   "metadata": {},
   "outputs": [
    {
     "data": {
      "text/plain": [
       "<BarContainer object of 10 artists>"
      ]
     },
     "execution_count": 45,
     "metadata": {},
     "output_type": "execute_result"
    },
    {
     "data": {
      "image/png": "[encoded data removed]",
      "text/plain": [
       "<Figure size 432x288 with 1 Axes>"
      ]
     },
     "metadata": {
      "needs_background": "light"
     },
     "output_type": "display_data"
    }
   ],
   "source": [
    "cards=[14,4,8,7,45,11,3,15,16,9]\n",
    "import matplotlib.pyplot as plt\n",
    "import numpy as np\n",
    "plt.bar(np.arange(len(cards)),cards)"
   ]
  },
  {
   "cell_type": "markdown",
   "metadata": {},
   "source": [
    "# Before Sorting"
   ]
  },
  {
   "cell_type": "markdown",
   "metadata": {},
   "source": [
    "## MergeSort Implementation"
   ]
  },
  {
   "cell_type": "code",
   "execution_count": 41,
   "metadata": {},
   "outputs": [
    {
     "name": "stdout",
     "output_type": "stream",
     "text": [
      "[3, 4, 7, 8, 9, 11, 14, 15, 16, 45]\n"
     ]
    },
    {
     "data": {
      "text/plain": [
       "<BarContainer object of 10 artists>"
      ]
     },
     "execution_count": 41,
     "metadata": {},
     "output_type": "execute_result"
    },
    {
     "data": {
      "image/png": "[encoded data removed]",
      "text/plain": [
       "<Figure size 432x288 with 1 Axes>"
      ]
     },
     "metadata": {
      "needs_background": "light"
     },
     "output_type": "display_data"
    }
   ],
   "source": [
    "\n",
    "#test case1\n",
    "#MergeSort Implementation\n",
    "\n",
    "def merge(l,r,arr):\n",
    "    i,j,k=0,0,0\n",
    "    nl,nr=len(l),len(r)\n",
    "    #check if index exceeds and sort elements \n",
    "    while i<nl and j<nr:\n",
    "        if l[i]<=r[j]:\n",
    "            arr[k]=l[i]\n",
    "            i+=1\n",
    "        else:\n",
    "            arr[k]=r[j]\n",
    "            j+=1\n",
    "        k+=1\n",
    "        \n",
    "    while i<nl:\n",
    "        arr[k]=l[i]\n",
    "        i+=1\n",
    "        k+=1\n",
    "    while j<nr:\n",
    "        arr[k]=r[j]\n",
    "        j+=1\n",
    "        k+=1\n",
    "        \n",
    "\n",
    "    \n",
    "def mergeSort(array):\n",
    "    if len(array) > 1:\n",
    "        nl=len(array)//2\n",
    "        nr=len(array)-nl\n",
    "        left_arr=array[:nl]\n",
    "        right_arr=array[nl:]\n",
    "        #create two arrays by dividing the given array\n",
    "    #     for i in range(nl):\n",
    "    #         left_arr.append(array[i])\n",
    "    #         if array[i+nl-1]:\n",
    "    #             right_arr.append(array[i+nl])\n",
    "        mergeSort(left_arr)\n",
    "        mergeSort(right_arr)\n",
    "#         print(left_arr,right_arr)\n",
    "        merge(left_arr,right_arr,array)\n",
    "        return array\n",
    "\n",
    "\n",
    "y=mergeSort(cards)\n",
    "print(cards)\n",
    "plt.bar(np.arange(len(cards)),cards)"
   ]
  },
  {
   "cell_type": "markdown",
   "metadata": {},
   "source": [
    "## After sorting using MergeSort\n"
   ]
  },
  {
   "cell_type": "markdown",
   "metadata": {},
   "source": [
    "## Quicksort Implementation"
   ]
  },
  {
   "cell_type": "code",
   "execution_count": null,
   "metadata": {},
   "outputs": [],
   "source": [
    "##QuickSort\n",
    "arr=[14,4,8,7,45,11,3,15,16,9]\n",
    "def swap(arr,ind1,ind2):\n",
    "    arr[ind1],arr[ind2]=arr[ind2],arr[ind1]\n",
    "    \n",
    "    \n",
    "arr=[14,4,8,7,45,11,3,15,16,9]\n",
    "def partition(arr,start,end):\n",
    "    piv=arr[end]\n",
    "    pIndex=start\n",
    "    for i in range(start,end+1):\n",
    "        if arr[i]<=piv:\n",
    "            swap(arr,i,pIndex)\n",
    "            pIndex+=1\n",
    "    swap(arr,pIndex,end)\n",
    "    return pIndex\n",
    "\n",
    "def QuickSort(arr,start,end):\n",
    "    if start<end:\n",
    "        pInd=partition(arr,start,end)\n",
    "        QuickSort(arr,start,pInd-1)\n",
    "        QuickSort(arr,pInd+1,end)\n",
    "QuickSort(arr,0,len(arr)-1)"
   ]
  },
  {
   "cell_type": "code",
   "execution_count": 18,
   "metadata": {
    "scrolled": true
   },
   "outputs": [
    {
     "data": {
      "text/plain": [
       "4"
      ]
     },
     "execution_count": 18,
     "metadata": {},
     "output_type": "execute_result"
    }
   ],
   "source": [
    "arr=[4,3,5,9,10]\n",
    "def swap(arr,ind1,ind2):\n",
    "    arr[ind1],arr[ind2]=arr[ind2],arr[ind1]\n",
    "    \n",
    "def partition(arr,start,end):\n",
    "    piv=arr[end]\n",
    "    pIndex=start\n",
    "    for i in range(start,end):\n",
    "        if arr[i]<=piv:\n",
    "            swap(arr,i,pIndex)\n",
    "            pIndex+=1\n",
    "    swap(arr,pIndex,end)\n",
    "    return pIndex\n",
    "partition(arr,0,4)"
   ]
  },
  {
   "cell_type": "code",
   "execution_count": 15,
   "metadata": {},
   "outputs": [
    {
     "data": {
      "text/plain": [
       "[4, 3, 5, 9, 10]"
      ]
     },
     "execution_count": 15,
     "metadata": {},
     "output_type": "execute_result"
    }
   ],
   "source": [
    "arr"
   ]
  },
  {
   "cell_type": "code",
   "execution_count": null,
   "metadata": {},
   "outputs": [],
   "source": []
  }
 ],
 "metadata": {
  "kernelspec": {
   "display_name": "Python 3",
   "language": "python",
   "name": "python3"
  },
  "language_info": {
   "codemirror_mode": {
    "name": "ipython",
    "version": 3
   },
   "file_extension": ".py",
   "mimetype": "text/x-python",
   "name": "python",
   "nbconvert_exporter": "python",
   "pygments_lexer": "ipython3",
   "version": "3.8.3"
  }
 },
 "nbformat": 4,
 "nbformat_minor": 4
}
